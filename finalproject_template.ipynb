{
 "cells": [
  {
   "cell_type": "markdown",
   "id": "2646a34e-a634-47ac-9fe7-73bf40ece8ae",
   "metadata": {},
   "source": [
    "# HW2/Final Project Template: Dataset Overview and Use Case Examples\n",
    "## EDS 220, Fall 2022\n",
    "\n",
    "The following is a template you can use for constructing your draft Jupyter notebooks demonstrating the features and use case examples for your chosen environmental datasets. I've included sections addressing the major themes that should be included, but there is also room for customization as well. \n",
    "\n",
    "Many of the resources provided are adapted from this template guide to notebook creation built for the \"EarthCube\" project:\n",
    "https://github.com/earthcube/NotebookTemplates"
   ]
  },
  {
   "cell_type": "markdown",
   "id": "56a405bf-2d38-4175-a931-f52905e11211",
   "metadata": {},
   "source": [
    "## Template Notebook for EDS 220 Group Project\n",
    "\n",
    "Replace the above with your chosen title. This should include some indication of the dataset you chose, but can also include a 'team title' or short summary of the themes of your analysis. Possible examples might be something like:\n",
    "- ERSSTv5 Sea Surface Temperature \n",
    "- National Land Cover Database Overview"
   ]
  },
  {
   "cell_type": "markdown",
   "id": "dc47afd0-adb0-4d5b-8903-992b7904322e",
   "metadata": {},
   "source": [
    "## Authors\n",
    "\n",
    "Guillermo Romero, Bren School of Environmental Science & Management, UCSB (romero61@ucsb.edu)\n",
    "Wade Sedgewick, Bren School of Environmental Science & Management, UCSB (wsedgwick@ucsb.edu)\n",
    "Hailey Veirs, Bren School of Environmental Science & Management, UCSB (hveirs@ucsb.edu)\n",
    "\n",
    "- Either do a time-series analysis and look at land sat images for 1 year after fire, how long does it take to get rid of the fire burns? \n",
    "- Or do an analysis of all the other fires compared to a big fire, or compare top 10 fires in california"
   ]
  },
  {
   "cell_type": "markdown",
   "id": "1e8c2013-fef1-44ac-bb00-3215807cacac",
   "metadata": {},
   "source": [
    "## Table of Contents\n",
    "\n",
    "Include a summary of the various sections included in your notebook, so that users can easily skip to a section of interest. It's also good to include hyperlinks to the different sections, so that clicking on the heading sends one to that section directly. Examples are below; see also this handy guide to adding hyperlinks to Jupyter notebooks:\n",
    "https://medium.illumidesk.com/jupyter-notebook-little-known-tricks-b0866a558017\n",
    "\n",
    "The major sections you'll need for HW2 - and your group project - are shown below:\n",
    "\n",
    "[1. Purpose](#purpose)\n",
    "\n",
    "[2. Dataset Description](#overview)\n",
    "\n",
    "[3. Data I/O](#io)\n",
    "\n",
    "[4. Metadata Display and Basic Visualization](#display)\n",
    "\n",
    "[5. Use Case Examples](#usecases)\n",
    "\n",
    "[6. Create Binder Environment](#binder)\n",
    "\n",
    "[7. References](#references)"
   ]
  },
  {
   "cell_type": "markdown",
   "id": "ba52c6e3-3584-48be-b500-21578b61bd72",
   "metadata": {},
   "source": [
    "<a id='purpose'></a> \n",
    "### Notebook Purpose\n",
    "\n",
    "Wildfires in California are becoming an increasingly straining. We aim to analyze the burn areas of the SCU Lightning Complex fire that occured from August to October 2021 by first looking at the images immediately before and after the fire occured. We will also look into the rate at which the burn scars retreated and vegetation grew."
   ]
  },
  {
   "cell_type": "markdown",
   "id": "d429260a-2c30-44da-a5af-e100a440056a",
   "metadata": {},
   "source": [
    "<a id='overview'></a> \n",
    "### Dataset Description\n",
    "\n",
    "The dataset we use in this notebook is a fire burned area product created by the ESA for the ESA Climate Change Initiative and the Copernicus Climate Change Service (C3S). It is part of the Fire CCI project, here is a link to the project webpage: https://climate.esa.int/en/projects/fire/.\n",
    "\n",
    "The raw data is from the MODIS sensor on NASA's Terra satellite. It has global coverage, with a spatial resolution of 250m and covers years from 2001-01-01 to 2020-12-01. The data is stored as geotiff files, and we will use Google Earth Engine to load it in, as it can be accessed from the GEE database.\n",
    "\n",
    "There may be issues due to the spatial resolution, as 250 is a coarser resolution than we may like. Additionally, the data only contains up to 2020, so our analyses will not be as up-to-date.\n",
    "\n",
    "Additional Dataset Citations (Add to references section)\n",
    "Padilla Parellada, M. (2018): ESA Fire Climate Change Initiative (Fire_cci): MODIS Fire_cci Burned Area Pixel product, version 5.1. Centre for Environmental Data Analysis, 01 November 2018. https://doi.org/10.5285/58f00d8814064b79a0c49662ad3af537.\n",
    "\n",
    "Related publication: Lizundia-Loiola, J., Otón, G., Ramo, R., Chuvieco, E. (2020): A spatio-temporal active-fire clustering approach for global burned area mapping at 250m from MODIS data. Remote Sensing of Environment, 236, 111493. https://doi.org/10.1016/j.rse.2019.111493"
   ]
  },
  {
   "cell_type": "markdown",
   "id": "02d5cb75-cb54-4708-8b88-459cae2ca17d",
   "metadata": {},
   "source": [
    "<a id='io'></a> \n",
    "### Dataset Input/Output "
   ]
  },
  {
   "cell_type": "code",
   "execution_count": 80,
   "id": "8a34c3c3-8c88-4361-8efd-0acbdf62c449",
   "metadata": {},
   "outputs": [],
   "source": [
    "#1) Import all necessary packages\n",
    "import pandas as pd\n",
    "import numpy as np\n",
    "import matplotlib.pyplot as plt\n",
    "import datetime\n",
    "import ee\n",
    "import geemap"
   ]
  },
  {
   "cell_type": "code",
   "execution_count": 81,
   "id": "9aaa0a3b-5a28-40eb-8258-71a70c8c74f0",
   "metadata": {},
   "outputs": [],
   "source": [
    "#ee.Authenticate()\n",
    "ee.Initialize()\n",
    "\n",
    "modisFire = ee.ImageCollection('ESA/CCI/FireCCI/5_1')"
   ]
  },
  {
   "cell_type": "code",
   "execution_count": 82,
   "id": "eda83082-2485-4765-8e75-0e005d475902",
   "metadata": {},
   "outputs": [],
   "source": [
    "#ee.Authenticate()\n",
    "ee.Initialize()\n",
    "#blank map\n",
    "modisFire = ee.ImageCollection('ESA/CCI/FireCCI/5_1')"
   ]
  },
  {
   "cell_type": "code",
   "execution_count": 83,
   "id": "9e60a4f1-26a2-487b-8534-74e788d1ed99",
   "metadata": {},
   "outputs": [],
   "source": [
    "#SCU complex fire Date of Burn \n",
    "dataset = ee.ImageCollection('ESA/CCI/FireCCI/5_1').filterDate('2020-01-01', '2020-09-30');\n",
    "burnedArea = dataset.select('BurnDate');"
   ]
  },
  {
   "cell_type": "code",
   "execution_count": 84,
   "id": "d39aec8e-9e51-45cb-88be-2b5b13339758",
   "metadata": {},
   "outputs": [],
   "source": [
    "# confidence level that pixel was burned on the date\n",
    "CL = dataset.select('ConfidenceLevel');"
   ]
  },
  {
   "cell_type": "markdown",
   "id": "30253e61-0707-4540-9c86-9afc6df27958",
   "metadata": {},
   "source": [
    "<a id='display'></a> \n",
    "### Metadata Display and Basic Visualization\n",
    "\n",
    "Next, provide some example commands to take a quick look at what is in your dataset. We've done some things along these lines in class by now, but you should include at least one of:\n",
    "\n",
    "- Metadata display: commands to indicate a) which variables are included in the dataset and their names; b) coordinate information associated with the data variables; c) other important metadata parameters (site names, etc); and d) any important information on missing data\n",
    "- Basic visualization: a \"quick and dirty\" plot showing generally what the data look like. Depending on your dataset, this could be either a time series or a map (no fancy coordinate reference system/projection needed yet)."
   ]
  },
  {
   "cell_type": "code",
   "execution_count": 85,
   "id": "b6963bab-eac5-48f8-ae66-f5db458d5a61",
   "metadata": {},
   "outputs": [
    {
     "data": {
      "text/plain": [
       "{'type': 'Image',\n",
       " 'bands': [{'id': 'BurnDate',\n",
       "   'data_type': {'type': 'PixelType',\n",
       "    'precision': 'int',\n",
       "    'min': -32768,\n",
       "    'max': 32767},\n",
       "   'dimensions': [160304, 62340],\n",
       "   'crs': 'EPSG:4326',\n",
       "   'crs_transform': [0.002245733107088199,\n",
       "    0,\n",
       "    -180,\n",
       "    0,\n",
       "    -0.0022457331070965167,\n",
       "    83.00004990518016]},\n",
       "  {'id': 'ConfidenceLevel',\n",
       "   'data_type': {'type': 'PixelType',\n",
       "    'precision': 'int',\n",
       "    'min': 0,\n",
       "    'max': 255},\n",
       "   'dimensions': [160304, 62340],\n",
       "   'crs': 'EPSG:4326',\n",
       "   'crs_transform': [0.002245733107088199,\n",
       "    0,\n",
       "    -179.99999999942963,\n",
       "    0,\n",
       "    -0.0022457331070965167,\n",
       "    83.00004990518016]},\n",
       "  {'id': 'LandCover',\n",
       "   'data_type': {'type': 'PixelType',\n",
       "    'precision': 'int',\n",
       "    'min': 0,\n",
       "    'max': 255},\n",
       "   'dimensions': [160304, 62340],\n",
       "   'crs': 'EPSG:4326',\n",
       "   'crs_transform': [0.002245733107088199,\n",
       "    0,\n",
       "    -180,\n",
       "    0,\n",
       "    -0.0022457331070965167,\n",
       "    83.00004990518016]},\n",
       "  {'id': 'ObservedFlag',\n",
       "   'data_type': {'type': 'PixelType',\n",
       "    'precision': 'int',\n",
       "    'min': -32768,\n",
       "    'max': 32767},\n",
       "   'dimensions': [160304, 62340],\n",
       "   'crs': 'EPSG:4326',\n",
       "   'crs_transform': [0.002245733107088199,\n",
       "    0,\n",
       "    -179.99999999898148,\n",
       "    0,\n",
       "    -0.0022457331070965167,\n",
       "    83.00004990518016]}],\n",
       " 'version': 1612485842772910.0,\n",
       " 'id': 'ESA/CCI/FireCCI/5_1/2001_01_01',\n",
       " 'properties': {'system:time_start': 978307200000,\n",
       "  'system:footprint': {'type': 'LinearRing',\n",
       "   'coordinates': [[-180, -90],\n",
       "    [180, -90],\n",
       "    [180, 90],\n",
       "    [-180, 90],\n",
       "    [-180, -90]]},\n",
       "  'system:time_end': 980899200000,\n",
       "  'LandCover_class_palette': ['ffff64',\n",
       "   'aaf0f0',\n",
       "   'dcf064',\n",
       "   'c8c864',\n",
       "   '006400',\n",
       "   '00a000',\n",
       "   '003c00',\n",
       "   '285000',\n",
       "   '788200',\n",
       "   '8ca000',\n",
       "   'be9600',\n",
       "   '966400',\n",
       "   'ffb432',\n",
       "   'ffdcd2',\n",
       "   'ffebaf',\n",
       "   '009678',\n",
       "   '00dc82'],\n",
       "  'system:asset_size': 481947842,\n",
       "  'LandCover_class_names': ['Cropland, rainfed',\n",
       "   'Cropland, irrigated or post-flooding',\n",
       "   'Mosaic cropland (>50%) / natural vegetation (tree, shrub, herbaceous cover) (<50%)',\n",
       "   'Mosaic natural vegetation (tree, shrub, herbaceous cover) (>50%) / cropland (<50%) ',\n",
       "   'Tree cover, broadleaved, evergreen, closed to open (>15%)',\n",
       "   'Tree cover, broadleaved, deciduous, closed to open (>15%)',\n",
       "   'Tree cover, needleleaved, evergreen, closed to open (>15%)',\n",
       "   'Tree cover, needleleaved, deciduous, closed to open (>15%)',\n",
       "   'Tree cover, mixed leaf type (broadleaved and needleleaved)',\n",
       "   'Mosaic tree and shrub (>50%) / herbaceous cover (<50%)',\n",
       "   'Mosaic herbaceous cover (>50%) / tree and shrub (<50%)',\n",
       "   'Shrubland',\n",
       "   'Grassland',\n",
       "   'Lichens and mosses',\n",
       "   'Sparse vegetation (tree, shrub, herbaceous cover) (<15%)',\n",
       "   'Tree cover, flooded, saline water',\n",
       "   'Shrub or herbaceous cover, flooded, fresh/saline/brakish water'],\n",
       "  'LandCover_class_values': [0,\n",
       "   20,\n",
       "   30,\n",
       "   40,\n",
       "   50,\n",
       "   60,\n",
       "   70,\n",
       "   80,\n",
       "   90,\n",
       "   100,\n",
       "   110,\n",
       "   120,\n",
       "   130,\n",
       "   140,\n",
       "   150,\n",
       "   170,\n",
       "   180],\n",
       "  'system:index': '2001_01_01'}}"
      ]
     },
     "execution_count": 85,
     "metadata": {},
     "output_type": "execute_result"
    }
   ],
   "source": [
    "# getting first image, getting info\n",
    "firstimg=modisFire.first()\n",
    "firstimg.getInfo()"
   ]
  },
  {
   "cell_type": "code",
   "execution_count": 86,
   "id": "9049974b-392e-4373-bebe-9e77f9793b29",
   "metadata": {},
   "outputs": [
    {
     "data": {
      "application/vnd.jupyter.widget-view+json": {
       "model_id": "30fe4e41621241daa8ac3632c9671636",
       "version_major": 2,
       "version_minor": 0
      },
      "text/plain": [
       "Map(center=[37.4, -121.54], controls=(WidgetControl(options=['position', 'transparent_bg'], widget=HBox(childr…"
      ]
     },
     "execution_count": 86,
     "metadata": {},
     "output_type": "execute_result"
    }
   ],
   "source": [
    "Map = geemap.Map(center=[37.4, -121.54], zoom=10)\n",
    "Map"
   ]
  },
  {
   "cell_type": "code",
   "execution_count": 87,
   "id": "bcb8874b-2b5c-4ccd-a0fa-daff5c751adf",
   "metadata": {},
   "outputs": [],
   "source": [
    "#SCU complex fire Date of Burn \n",
    "dataset = ee.ImageCollection('ESA/CCI/FireCCI/5_1').filterDate('2020-01-01', '2020-09-30');\n",
    "burnedArea = dataset.select('BurnDate');\n",
    "\n",
    "\n",
    "\n",
    "\n",
    "baVis = {\n",
    "  'min': 1,\n",
    "  'max': 366,\n",
    "  'palette': [\n",
    "    \"ff0000\", \"ff6035\", \"ffb37e\", \"ffeac6\", \"ffffff\", \"cdeeff\", \"85b9ff\",\n",
    "      \"3c69ff\", \"0009ff\", \"0000d0\", \"000088\", '00003f', \"000000\", \"2c0000\",\n",
    "      \"730000\", \"bc0000\", \"fc0000\", \"ff4f29\", \"ffa570\", \"ffe2b9\", \"fffefa\",\n",
    "      \"d9f4ff\", \"93c6ff\", \"497aff\", \"081cff\", \"0000dd\", \"000096\", \"00004d\", \"00000b\"\n",
    "      , \"1f0000\", \"650000\", \"af0000\", \"f10000\", \"ff3d1c\", \"ff9662\", \"ffd9ab\", \"fffbee\",\n",
    "      \"e6f9ff\", \"a1d1ff\", \"578aff\", \"132fff\", \"0000e9\", \"0000a4\", \"00005b\", \"000016\", \"130000\",\n",
    "      \"570000\", \"a10000\", \"e60000\", \"ff2a11\", \"ff8654\", \"ffce9d\", \"fff8e3\", \"f1fcff\", \"afdbff\",\n",
    "      \"659aff\", \"1f41ff\", \"0000f4\", \"0000b2\", \"000069\", \"000022\", \"080000\", \"490000\", \"930000\",\n",
    "      \"d90000\", \"ff1805\", \"ff7646\", \"ffc38f\", \"fff3d6\", \"fcfeff\", \"bce4ff\", \"73a8ff\", \"2c53ff\",\n",
    "      \"0000ff\", \"0000c0\", \"000077\", \"00002f\", \"000000\", \"3c0000\", \"850000\", \"cd0000\", \"ff0500\",\n",
    "      \"ff6539\", \"ffb681\", \"ffecca\", \"ffffff\", \"caecff\", \"81b6ff\", \"3965ff\", \"0005ff\", \"0000cd\",\n",
    "      \"000085\", \"00003c\", \"000000\", \"2f0000\", \"770000\", \"c00000\", \"ff0000\", \"ff532c\", \"ffa873\",\n",
    "      \"ffe4bc\", \"fffefc\", \"d6f3ff\", \"8fc3ff\", \"4676ff\", \"0518ff\", \"0000d9\", \"000093\", \"000049\",\n",
    "      \"000008\", \"220000\", \"690000\", \"b20000\", \"f40000\", \"ff411f\", \"ff9a65\", \"ffdbaf\", \"fffcf1\",\n",
    "      \"e3f8ff\", \"9dceff\", \"5486ff\", \"112aff\", \"0000e6\", \"0000a1\", \"000057\", \"000013\", \"160000\",\n",
    "      \"5b0000\", \"a40000\", \"e90000\", \"ff2f13\", \"ff8a57\", \"ffd1a1\", \"fff9e6\", \"eefbff\", \"abd9ff\",\n",
    "      \"6296ff\", \"1c3dff\", \"0000f1\", \"0000af\", \"000065\", \"00001f\", \"0b0000\", \"4d0000\", \"960000\",\n",
    "      \"dd0000\", \"ff1c08\", \"ff7a49\", \"ffc693\", \"fff4d9\", \"fafeff\", \"b9e2ff\", \"70a5ff\", \"294fff\",\n",
    "      \"0000fc\", \"0000bc\", \"000073\", \"00002c\", \"000000\", \"3f0000\", \"880000\", \"d00000\", \"ff0900\",\n",
    "      \"ff693c\", \"ffb985\", \"ffeecd\", \"ffffff\", \"c6eaff\", \"7eb3ff\", \"3560ff\", \"0000ff\", \"0000ca\",\n",
    "      \"000081\", \"000039\", \"000000\", \"320000\", \"7a0000\", \"c30000\", \"ff0000\", \"ff582f\", \"ffac77\",\n",
    "      \"ffe6c0\", \"ffffff\", \"d3f1ff\", \"8cc0ff\", \"4372ff\", \"0313ff\", \"0000d6\", \"00008f\", \"000046\",\n",
    "      \"000005\", \"260000\", \"6c0000\", \"b60000\", \"f70000\", \"ff4622\", \"ff9d69\", \"ffdeb2\", \"fffdf4\",\n",
    "      \"e0f7ff\", \"9acbff\", \"5082ff\", \"0e26ff\", \"0000e3\", \"00009d\", \"000054\", \"000011\", \"190000\",\n",
    "      \"5e0000\", \"a80000\", \"ec0000\", \"ff3316\", \"ff8e5b\", \"ffd4a4\", \"fffae9\", \"ecfbff\", \"a8d6ff\",\n",
    "      \"5e92ff\", \"1938ff\", \"0000ee\", \"0000ab\", \"000062\", \"00001c\", \"0e0000\", \"500000\", \"9a0000\",\n",
    "      \"e00000\", \"ff210b\", \"ff7e4d\", \"ffc996\", \"fff5dd\", \"f7fdff\", \"b6e0ff\", \"6ca1ff\", \"264aff\",\n",
    "      \"0000fa\", \"0000b9\", \"000070\", \"000029\", \"030000\", \"430000\", \"8c0000\", \"d30000\", \"ff0e00\",\n",
    "      \"ff6d3f\", \"ffbc88\", \"ffefd0\", \"ffffff\", \"c3e8ff\", \"7aafff\", \"325cff\", \"0000ff\", \"0000c6\",\n",
    "      \"00007e\", \"000035\", \"000000\"\n",
    "  ]\n",
    "};\n",
    "maxBA = burnedArea.max();\n",
    "\n",
    "Map.setCenter(-121.54, 37.4, 10);\n",
    "Map.addLayer(maxBA, baVis, 'Burn Date');"
   ]
  },
  {
   "cell_type": "code",
   "execution_count": 88,
   "id": "4bea4e25-d73f-4a73-9b3b-ec3176ed38c2",
   "metadata": {},
   "outputs": [
    {
     "data": {
      "application/vnd.jupyter.widget-view+json": {
       "model_id": "6b7c2a6a17524b52b61a4325f3370f90",
       "version_major": 2,
       "version_minor": 0
      },
      "text/plain": [
       "Map(center=[37.4, -121.54], controls=(WidgetControl(options=['position', 'transparent_bg'], widget=HBox(childr…"
      ]
     },
     "execution_count": 88,
     "metadata": {},
     "output_type": "execute_result"
    }
   ],
   "source": [
    "Map = geemap.Map(center=[37.4, -121.54], zoom=10)\n",
    "Map"
   ]
  },
  {
   "cell_type": "code",
   "execution_count": 89,
   "id": "078cb0ad-8241-46bb-8372-73331d0b1858",
   "metadata": {},
   "outputs": [],
   "source": [
    "# confidence level that pixel was burned on the date\n",
    "CL = dataset.select('ConfidenceLevel');\n",
    "\n",
    "\n",
    "CLVis = {\n",
    "  'min': 1,\n",
    "  'max': 100,\n",
    "    'palette': [\"313695\", \"323896\", \"333b97\", \"333d99\", \"34409a\", \"35429b\", \"36459c\", \"36479e\",\n",
    "    \"374a9f\", \"384ca0\", \"394fa1\", \"3a51a2\", \"3a54a4\", \"3b56a5\", \"3c59a6\", \"3d5ba7\", \"3e5ea8\",\n",
    "    \"3e60aa\", \"3f62ab\", \"4065ac\", \"4167ad\", \"416aaf\", \"426cb0\", \"436fb1\", \"4471b2\", \"4574b3\",\n",
    "    \"4676b5\", \"4878b6\", \"4a7ab7\", \"4b7db8\", \"4d7fb9\", \"4f81ba\", \"5183bb\", '5385bd', '5588be',\n",
    "    '578abf', \"588cc0\", \"5a8ec1\", \"5c90c2\", \"5e93c3\", \"6095c4\", \"6297c6\", \"6399c7\", \"659bc8\",\n",
    "    \"679ec9\", \"69a0ca\", \"6ba2cb\", \"6da4cc\", \"6ea6ce\", \"70a9cf\", \"72abd0\", \"74add1\", \"76afd2\",\n",
    "    \"78b0d3\", \"7ab2d4\", \"7db4d5\", \"7fb6d6\", \"81b7d7\", \"83b9d8\", \"85bbd9\", \"87bdd9\", \"8abeda\",\n",
    "    \"8cc0db\", \"8ec2dc\", \"90c3dd\", '92c5de', \"94c7df\", '97c9e0', '99cae1', '9bcce2', '9dcee3',\n",
    "    '9fd0e4', 'a1d1e5', 'a3d3e6', 'a6d5e7', 'a8d6e8', 'aad8e9', 'acdae9', 'aedbea', 'b0dcea',\n",
    "    'b2ddeb', 'b4deec', 'b6dfec', 'b9e0ed', 'bbe1ed', 'bde2ee', 'bfe3ef', 'c1e4ef', 'c3e5f0',\n",
    "    'c5e6f0', 'c7e7f1', 'c9e8f2', 'cbe9f2', 'cdeaf3', 'cfebf3', 'd1ecf4', 'd4edf4', 'd6eef5',\n",
    "    'd8eff6', 'daf0f6', 'dcf1f7', 'def2f7', 'e0f3f8', 'e1f3f6', 'e2f4f4', 'e4f4f1', 'e5f5ef',\n",
    "    'e6f5ed', 'e7f6eb', 'e9f6e8', 'eaf7e6', 'ebf7e4', 'ecf8e2', 'edf8df', 'eff9dd', 'f0f9db', \n",
    "    'f1fad9', 'f2fad6', 'f3fbd4', 'f5fbd2', 'f6fbd0', 'f7fcce', 'f8fccb', 'fafdc9', 'fbfdc7',\n",
    "    'fcfec5', 'fdfec2', 'feffc0', 'fffebe', 'fffdbc', 'fffcba', 'fffbb9', 'fffab7', 'fff8b5',\n",
    "    'fff7b3', 'fff6b1', 'fff5af', 'fff3ad', 'fff2ac', 'fff1aa', 'fff0a8', 'feefa6', 'feeda4',\n",
    "    'feeca2', 'feeba1', 'feea9f', 'fee99d', 'fee79b', 'fee699', 'fee597', 'fee496', 'fee294',\n",
    "    'fee192', 'fee090', 'fede8e', 'fedc8c', 'feda8a', 'fed889', 'fed687', 'fed485', 'fed283',\n",
    "    'fed081', 'fece7f', 'fecc7e', 'feca7c', 'fec87a', 'fdc778', 'fdc576', 'fdc374', 'fdc173',\n",
    "    'fdbf71', 'fdbd6f', 'fdbb6d', 'fdb96b', 'fdb769', 'fdb567', 'fdb366', 'fdb164', 'fdaf62', \n",
    "    'fdad60', 'fcaa5f', 'fca85e', 'fca55d', 'fba35c', 'fba05b', 'fb9d59', 'fa9b58', 'fa9857', \n",
    "    'fa9656', 'f99355', 'f99153', 'f98e52', 'f88c51', 'f88950', 'f8864f', 'f7844e', 'f7814c', \n",
    "    'f67f4b', 'f67c4a', 'f67a49', 'f57748', 'f57547', 'f57245', 'f47044', 'f46d43', 'f36b42',\n",
    "    'f26841', 'f16640', 'ef633f', 'ee613e', 'ed5f3c', 'ec5c3b', 'eb5a3a', 'ea5739', 'e95538',\n",
    "    'e75337', 'e65036', 'e54e35', 'e44c34', 'e34933', 'e24731', 'e14430', 'e0422f', 'de402e',\n",
    "    'dd3d2d', 'dc3b2c', 'db382b', 'da362a', 'd93429', 'd83128', 'd62f27', 'd42d27', 'd22b27', \n",
    "    'd02927', 'ce2827', 'cc2627', 'ca2427', 'c82227', 'c62027', 'c41e27', 'c21c27', 'c01a27',\n",
    "    'be1827', 'bd1726', 'bb1526', 'b91326', 'b71126', 'b50f26', 'b30d26', 'b10b26', 'af0926', \n",
    "    'ad0826', 'ab0626', 'a90426', 'a70226', 'a50026']};\n",
    "maxCL = CL.max();\n",
    "\n",
    "Map.setCenter(-121.54, 37.4, 10);\n",
    "Map.addLayer(maxCL, CLVis, 'Confidence Level');"
   ]
  },
  {
   "cell_type": "markdown",
   "id": "62354cdf-609f-487d-be51-9ea306997a69",
   "metadata": {},
   "source": [
    "<a id='usecases'></a> \n",
    "### Use Case Examples"
   ]
  },
  {
   "cell_type": "markdown",
   "id": "9e5b04a9-b2bb-40ed-bb8c-9c75d3494c38",
   "metadata": {},
   "source": [
    "This is the \"meat\" of the notebook, and what will take the majority of the time to present in class. This section should provide:\n",
    "1) A plain-text summary (1-2 paragraphs) of the use case example you have chosen: include the target users and audience, and potential applicability. \n",
    "\n",
    "2) Markdown and code blocks demonstrating how one walks through the desired use case example. This should be similar to the labs we've done in class: you might want to demonstrate how to isolate a particularly interesting time period, then create an image showing a feature you're interested in, for example.\n",
    "\n",
    "3) A discussion of the results and how they might be extended on further analysis. For example, if there are data quality issues which impact the results, you could discuss how these might be mitigated with additional information/analysis.\n",
    "\n",
    "Just keep in mind, you'll have roughly 20 minutes for your full presentation, and that goes surprisingly quickly! Probably 2-3 diagnostics is the most you'll be able to get through (you could try practicing with your group members to get a sense of timing).\n"
   ]
  },
  {
   "cell_type": "markdown",
   "id": "9d07de0d-1e81-442a-a895-7b7fd7906385",
   "metadata": {},
   "source": [
    "<a id='binder'></a> \n",
    "### Create Binder Environment\n",
    "\n",
    "The last step is to create a Binder environment for your project, so that we don't have to spend time configuring everyone's environment each time we switch between group presentations. Instructions are below:\n",
    "\n",
    " - Assemble all of the data needed in your Github repo: Jupyter notebooks, a README file, and any datasets needed (these should be small, if included within the repo). Larger datasets should be stored on a separate server, and access codes included within the Jupyter notebook as discussed above. \n",
    " \n",
    " - Create an _environment_ file: this is a text file which contains information on the packages needed in order to execute your code. The filename should be \"environment.yml\": an example that you can use for the proper syntax is included in this template repo. To determine which packages to include, you'll probably want to start by displaying the packages loaded in your environment: you can use the command `conda list -n [environment_name]` to get a list.\n",
    " \n",
    " More information on environment files can be found here:\n",
    " https://docs.conda.io/projects/conda/en/latest/user-guide/tasks/manage-environments.html#\n",
    "\n",
    " - Create Binder. Use http://mybinder.org to create a  URL for your notebook Binder (you will need to enter your GitHub repo URL). You can also add a Launch Binder button directly to your GitHub repo, by including the following in your README.md:\n",
    "\n",
    "```\n",
    "launch with myBinder\n",
    "[![Binder](https://mybinder.org/badge.svg)](https://mybinder.org/v2/gh/<path to your repo>)\n",
    "```"
   ]
  },
  {
   "cell_type": "markdown",
   "id": "c62c774b-8a7c-4f47-9c07-7f9823c48473",
   "metadata": {},
   "source": [
    "<a id='references'></a> \n",
    "### References\n",
    "\n",
    "List relevant references. Here are some additional resources on creating professional, shareable notebooks you may find useful:\n",
    "\n",
    "1. Notebook sharing guidelines from reproducible-science-curriculum: https://reproducible-science-curriculum.github.io/publication-RR-Jupyter/\n",
    "2. Guide for developing shareable notebooks by Kevin Coakley, SDSC: https://github.com/kevincoakley/sharing-jupyter-notebooks/raw/master/Jupyter-Notebooks-Sharing-Recommendations.pdf\n",
    "3. Guide for sharing notebooks by Andrea Zonca, SDSC: https://zonca.dev/2020/09/how-to-share-jupyter-notebooks.html\n",
    "4. Jupyter Notebook Best Practices: https://towardsdatascience.com/jupyter-notebook-best-practices-f430a6ba8c69\n",
    "5. Introduction to Jupyter templates nbextension: https://towardsdatascience.com/stop-copy-pasting-notebooks-embrace-jupyter-templates-6bd7b6c00b94  \n",
    "    5.1. Table of Contents (Toc2) readthedocs: https://jupyter-contrib-nbextensions.readthedocs.io/en/latest/nbextensions/toc2/README.html  \n",
    "    5.2. Steps to install toc2: https://stackoverflow.com/questions/23435723/installing-ipython-notebook-table-of-contents\n",
    "6. Rule A, Birmingham A, Zuniga C, Altintas I, Huang SC, et al. (2019) Ten simple rules for writing and sharing computational analyses in Jupyter Notebooks. PLOS Computational Biology 15(7): e1007007. https://doi.org/10.1371/journal.pcbi.1007007. Supplementary materials: example notebooks (https://github.com/jupyter-guide/ten-rules-jupyter) and tutorial (https://github.com/ISMB-ECCB-2019-Tutorial-AM4/reproducible-computational-workflows)\n",
    "7. Languages supported by Jupyter kernels: https://github.com/jupyter/jupyter/wiki/Jupyter-kernels\n",
    "8. EarthCube notebooks presented at EC Annual Meeting 2020: https://www.earthcube.org/notebooks\n",
    "9. Manage your Python Virtual Environment with Conda: https://towardsdatascience.com/manage-your-python-virtual-environment-with-conda-a0d2934d5195\n",
    "10. Venv - Creation of Virtual Environments: https://docs.python.org/3/library/venv.html"
   ]
  },
  {
   "cell_type": "code",
   "execution_count": null,
   "id": "e9f10df5-100c-4f4a-a1c3-bd417b524a61",
   "metadata": {},
   "outputs": [],
   "source": []
  }
 ],
 "metadata": {
  "kernelspec": {
   "display_name": "Python 3 (ipykernel)",
   "language": "python",
   "name": "python3"
  },
  "language_info": {
   "codemirror_mode": {
    "name": "ipython",
    "version": 3
   },
   "file_extension": ".py",
   "mimetype": "text/x-python",
   "name": "python",
   "nbconvert_exporter": "python",
   "pygments_lexer": "ipython3",
   "version": "3.10.5"
  }
 },
 "nbformat": 4,
 "nbformat_minor": 5
}
