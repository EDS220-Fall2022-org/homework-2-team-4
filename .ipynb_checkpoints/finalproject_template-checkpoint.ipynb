{
 "cells": [
  {
   "cell_type": "markdown",
   "id": "2646a34e-a634-47ac-9fe7-73bf40ece8ae",
   "metadata": {},
   "source": [
    "# HW2/Final Project Template: Dataset Overview and Use Case Examples\n",
    "## EDS 220, Fall 2022\n",
    "\n",
    "The following is a template you can use for constructing your draft Jupyter notebooks demonstrating the features and use case examples for your chosen environmental datasets. I've included sections addressing the major themes that should be included, but there is also room for customization as well. \n",
    "\n",
    "Many of the resources provided are adapted from this template guide to notebook creation built for the \"EarthCube\" project:\n",
    "https://github.com/earthcube/NotebookTemplates"
   ]
  },
  {
   "cell_type": "markdown",
   "id": "56a405bf-2d38-4175-a931-f52905e11211",
   "metadata": {},
   "source": [
    "## Template Notebook for EDS 220 Group Project\n",
    "\n",
    "Replace the above with your chosen title. This should include some indication of the dataset you chose, but can also include a 'team title' or short summary of the themes of your analysis. Possible examples might be something like:\n",
    "- ERSSTv5 Sea Surface Temperature \n",
    "- National Land Cover Database Overview"
   ]
  },
  {
   "cell_type": "markdown",
   "id": "dc47afd0-adb0-4d5b-8903-992b7904322e",
   "metadata": {},
   "source": [
    "## Authors\n",
    "\n",
    "Include the names of everyone in your group! In professional contexts, best practice is to also include up-to-date contact information and any affiliation information: here we're all at UCSB of course, but listing contact info can be helpful nonetheless if you plan to use this notebook later on for any job hunting purposes. \n",
    "\n",
    "An example for this notebook:\n",
    "\n",
    "#### Authors\n",
    "- Samantha Stevenson, UC Santa Barbara (sstevenson@ucsb.edu) <br>\n",
    "  https://www.samanthalstevenson.com/\n",
    "- Guillermo Romero, UC Santa Barbara\n",
    "- Hailey Veirs, UC Santa Barbara\n",
    "- Wade Sedgwick, UC Santa Barbara (wsedgwick@ucsb.edu)\n",
    "\n",
    "- Either do a time-series analysis and look at land sat images for 1 year after fire, how long does it take to get rid of the fire burns? \n",
    "- Or do an analysis of all the other fires compared to a big fire, or compare top 10 fires in california"
   ]
  },
  {
   "cell_type": "markdown",
   "id": "1e8c2013-fef1-44ac-bb00-3215807cacac",
   "metadata": {},
   "source": [
    "## Table of Contents\n",
    "\n",
    "Include a summary of the various sections included in your notebook, so that users can easily skip to a section of interest. It's also good to include hyperlinks to the different sections, so that clicking on the heading sends one to that section directly. Examples are below; see also this handy guide to adding hyperlinks to Jupyter notebooks:\n",
    "https://medium.illumidesk.com/jupyter-notebook-little-known-tricks-b0866a558017\n",
    "\n",
    "The major sections you'll need for HW2 - and your group project - are shown below:\n",
    "\n",
    "[1. Purpose](#purpose)\n",
    "\n",
    "[2. Dataset Description](#overview)\n",
    "\n",
    "[3. Data I/O](#io)\n",
    "\n",
    "[4. Metadata Display and Basic Visualization](#display)\n",
    "\n",
    "[5. Use Case Examples](#usecases)\n",
    "\n",
    "[6. Create Binder Environment](#binder)\n",
    "\n",
    "[7. References](#references)"
   ]
  },
  {
   "cell_type": "markdown",
   "id": "ba52c6e3-3584-48be-b500-21578b61bd72",
   "metadata": {},
   "source": [
    "<a id='purpose'></a> \n",
    "### Notebook Purpose\n",
    "\n",
    "State the overall purpose of the notebook. Again, this may seem obvious for this particular case, but can come in handy if you're using the notebook later on!\n",
    "\n",
    "Wildfires in California are becoming an increasingly straining \n",
    "\n",
    "\n",
    "\n",
    "We aim to analyze the burn scars of the SCU Lightning Complex fire that occured from August to October 2021 by looking at the Difference Normalized Burn Ratio of Landsat images immediately before and after the fire occured. We will also look into the rate at which the burn scars retreated and vegetation grew."
   ]
  },
  {
   "cell_type": "markdown",
   "id": "d429260a-2c30-44da-a5af-e100a440056a",
   "metadata": {},
   "source": [
    "<a id='overview'></a> \n",
    "### Dataset Description\n",
    "\n",
    "Our project will be using Landsat im\n",
    "\n",
    "This portion of the notebook should contain a summary description of your chosen environmental dataset. In a few paragraphs, discuss:\n",
    "- The creators of the dataset: NASA/NOAA/other government agency? Nonprofit? etc.\n",
    "- Major characteristics of the dataset: global coverage? Spatial resolution? Temporal resolution? Creation date? \n",
    "- The file format(s) used to store the data: netCDF? CSV? Other?\n",
    "- The source/archive you will be using to retrieve the data: Google Earth Engine? Agency data portal? Other API?\n",
    "- Any known issues with data quality that might be expected to impact the results\n",
    "\n",
    "Include links to any external resources needed to access the data here, including either the location of files stored on an external server you've set up or the access URL for a pre-existing repository. You can also include any example images you find useful for motivating the choice of dataset (optional).\n",
    "\n",
    "**Here and throughout the notebook:** use a mix of markdown cells and code blocks to demonstrate your code. Markdown cells should be used to describe the purpose of the code blocks which follow them, but _do not replace_ comments within the code block! Make sure to include comments in the code as well illustrating the specific function of the various lines of code. Your later self - and other users - will thank you!"
   ]
  },
  {
   "cell_type": "markdown",
   "id": "02d5cb75-cb54-4708-8b88-459cae2ca17d",
   "metadata": {},
   "source": [
    "<a id='io'></a> \n",
    "### Dataset Input/Output \n",
    "\n",
    "Next, provide code to read in the data necessary for your analysis. This should be in the following order:\n",
    "\n",
    "1) Import all necessary packages (matplotlib, numpy, etc)\n",
    "\n",
    "2) Set any parameters that will be needed during subsequent portions of the notebook. Typical examples of parameters include:\n",
    "- names of any directories where data are stored\n",
    "- ranges of years over which data are valid\n",
    "- any thresholds or latitude/longitude ranges to be used later (e.g. dimensions of NINO3.4 region, threshold SSTA values for El Nino, etc.)\n",
    "\n",
    "3) Read in the data! If the data files are very large, you may want to consider subsetting the portion of files to be read in (see examples of this during notebooks provided in Weeks 7 and 8).\n",
    "\n",
    "Here is a good rule of thumb: It's good to aim for a relatively short amount of time needed to read in the data, since otherwise we'll be sitting around waiting for things to load for a long time. A  minute or two for data I/O is probably the max you'll want to target!"
   ]
  },
  {
   "cell_type": "code",
   "execution_count": 2,
   "id": "8a34c3c3-8c88-4361-8efd-0acbdf62c449",
   "metadata": {},
   "outputs": [],
   "source": [
    "import pandas as pd\n",
    "import numpy as np\n",
    "import matplotlib.pyplot as plt\n",
    "import datetime\n",
    "import ee\n",
    "import geemap"
   ]
  },
  {
   "cell_type": "code",
   "execution_count": 5,
   "id": "9aaa0a3b-5a28-40eb-8258-71a70c8c74f0",
   "metadata": {},
   "outputs": [],
   "source": [
    "ee.Initialize()\n",
    "\n",
    "gdat = ee.ImageCollection('LANDSAT/LC08/C01/T1_TOA')\n",
    "\n",
    "modisFire = ee.ImageCollection('ESA/CCI/FireCCI/5_1')"
   ]
  },
  {
   "cell_type": "code",
   "execution_count": 53,
   "id": "e58f8d22-a65c-4234-99a9-16382d9f4983",
   "metadata": {},
   "outputs": [],
   "source": [
    "# region of interest is site of SCU fire, east of Morgan Hill\n",
    "u_lon = -121.54\n",
    "u_lat = 37.22\n",
    "u_poi = ee.Geometry.Point(u_lon, u_lat)\n",
    "\n",
    "# Define the region: everything within 100km of fire zone\n",
    "roi = u_poi.buffer(1e2)\n",
    "\n",
    "\n",
    "# No cloud cover to filter\n",
    "# modis_nocld=modis_filt.filter('CLOUD_COVER < 0.2')\n",
    "\n",
    "# filtering data to region of interest\n",
    "modis_filt = modisFire.filterBounds(roi)\n",
    "\n",
    "# filter to 2020\n",
    "modis_after_fire=modis_filt.filter(ee.Filter.date('2020-10-01', '2020-12-01')).mean();"
   ]
  },
  {
   "cell_type": "code",
   "execution_count": 36,
   "id": "dc36059f-d71f-4d34-ba53-060d68e30d2a",
   "metadata": {},
   "outputs": [],
   "source": [
    "pt = ee.Geometry.Point([-121.54, 37.22])\n",
    "gdat_filt = gdat.filterBounds(pt)\n",
    "\n",
    "\n",
    "dat_nocld=gdat_filt.filter('CLOUD_COVER < 0.2')\n",
    "\n",
    "dat_drght=dat_nocld.filter(ee.Filter.date('2020-10-01', '2020-12-31')).mean();\n",
    "\n",
    "dat_drght_3mo_later=dat_nocld.filter(ee.Filter.date('2020-12-31', '2021-3-31')).mean();\n",
    "\n",
    "dat_drght_6mo_later=dat_nocld.filter(ee.Filter.date('2021-03-31', '2021-05-31')).mean();\n",
    "\n",
    "# With new MODIS data\n",
    "\n",
    "modis_filt = modisFire.filterBounds(pt)\n",
    "modis_nocld=modis_filt.filter('CLOUD_COVER < 0.2')\n",
    "modis_drght=modis_nocld.filter(ee.Filter.date('2020-01-01', '2020-12-31')).mean();"
   ]
  },
  {
   "cell_type": "markdown",
   "id": "30253e61-0707-4540-9c86-9afc6df27958",
   "metadata": {},
   "source": [
    "<a id='display'></a> \n",
    "### Metadata Display and Basic Visualization\n",
    "\n",
    "Next, provide some example commands to take a quick look at what is in your dataset. We've done some things along these lines in class by now, but you should include at least one of:\n",
    "\n",
    "- Metadata display: commands to indicate a) which variables are included in the dataset and their names; b) coordinate information associated with the data variables; c) other important metadata parameters (site names, etc); and d) any important information on missing data\n",
    "- Basic visualization: a \"quick and dirty\" plot showing generally what the data look like. Depending on your dataset, this could be either a time series or a map (no fancy coordinate reference system/projection needed yet)."
   ]
  },
  {
   "cell_type": "code",
   "execution_count": 8,
   "id": "b6963bab-eac5-48f8-ae66-f5db458d5a61",
   "metadata": {},
   "outputs": [
    {
     "data": {
      "text/plain": [
       "{'type': 'Image',\n",
       " 'bands': [{'id': 'BurnDate',\n",
       "   'data_type': {'type': 'PixelType',\n",
       "    'precision': 'int',\n",
       "    'min': -32768,\n",
       "    'max': 32767},\n",
       "   'dimensions': [160304, 62340],\n",
       "   'crs': 'EPSG:4326',\n",
       "   'crs_transform': [0.002245733107088199,\n",
       "    0,\n",
       "    -180,\n",
       "    0,\n",
       "    -0.0022457331070965167,\n",
       "    83.00004990518016]},\n",
       "  {'id': 'ConfidenceLevel',\n",
       "   'data_type': {'type': 'PixelType',\n",
       "    'precision': 'int',\n",
       "    'min': 0,\n",
       "    'max': 255},\n",
       "   'dimensions': [160304, 62340],\n",
       "   'crs': 'EPSG:4326',\n",
       "   'crs_transform': [0.002245733107088199,\n",
       "    0,\n",
       "    -179.99999999942963,\n",
       "    0,\n",
       "    -0.0022457331070965167,\n",
       "    83.00004990518016]},\n",
       "  {'id': 'LandCover',\n",
       "   'data_type': {'type': 'PixelType',\n",
       "    'precision': 'int',\n",
       "    'min': 0,\n",
       "    'max': 255},\n",
       "   'dimensions': [160304, 62340],\n",
       "   'crs': 'EPSG:4326',\n",
       "   'crs_transform': [0.002245733107088199,\n",
       "    0,\n",
       "    -180,\n",
       "    0,\n",
       "    -0.0022457331070965167,\n",
       "    83.00004990518016]},\n",
       "  {'id': 'ObservedFlag',\n",
       "   'data_type': {'type': 'PixelType',\n",
       "    'precision': 'int',\n",
       "    'min': -32768,\n",
       "    'max': 32767},\n",
       "   'dimensions': [160304, 62340],\n",
       "   'crs': 'EPSG:4326',\n",
       "   'crs_transform': [0.002245733107088199,\n",
       "    0,\n",
       "    -179.99999999898148,\n",
       "    0,\n",
       "    -0.0022457331070965167,\n",
       "    83.00004990518016]}],\n",
       " 'version': 1612485842772910.0,\n",
       " 'id': 'ESA/CCI/FireCCI/5_1/2001_01_01',\n",
       " 'properties': {'system:time_start': 978307200000,\n",
       "  'system:footprint': {'type': 'LinearRing',\n",
       "   'coordinates': [[-180, -90],\n",
       "    [180, -90],\n",
       "    [180, 90],\n",
       "    [-180, 90],\n",
       "    [-180, -90]]},\n",
       "  'system:time_end': 980899200000,\n",
       "  'LandCover_class_palette': ['ffff64',\n",
       "   'aaf0f0',\n",
       "   'dcf064',\n",
       "   'c8c864',\n",
       "   '006400',\n",
       "   '00a000',\n",
       "   '003c00',\n",
       "   '285000',\n",
       "   '788200',\n",
       "   '8ca000',\n",
       "   'be9600',\n",
       "   '966400',\n",
       "   'ffb432',\n",
       "   'ffdcd2',\n",
       "   'ffebaf',\n",
       "   '009678',\n",
       "   '00dc82'],\n",
       "  'system:asset_size': 481947842,\n",
       "  'LandCover_class_names': ['Cropland, rainfed',\n",
       "   'Cropland, irrigated or post-flooding',\n",
       "   'Mosaic cropland (>50%) / natural vegetation (tree, shrub, herbaceous cover) (<50%)',\n",
       "   'Mosaic natural vegetation (tree, shrub, herbaceous cover) (>50%) / cropland (<50%) ',\n",
       "   'Tree cover, broadleaved, evergreen, closed to open (>15%)',\n",
       "   'Tree cover, broadleaved, deciduous, closed to open (>15%)',\n",
       "   'Tree cover, needleleaved, evergreen, closed to open (>15%)',\n",
       "   'Tree cover, needleleaved, deciduous, closed to open (>15%)',\n",
       "   'Tree cover, mixed leaf type (broadleaved and needleleaved)',\n",
       "   'Mosaic tree and shrub (>50%) / herbaceous cover (<50%)',\n",
       "   'Mosaic herbaceous cover (>50%) / tree and shrub (<50%)',\n",
       "   'Shrubland',\n",
       "   'Grassland',\n",
       "   'Lichens and mosses',\n",
       "   'Sparse vegetation (tree, shrub, herbaceous cover) (<15%)',\n",
       "   'Tree cover, flooded, saline water',\n",
       "   'Shrub or herbaceous cover, flooded, fresh/saline/brakish water'],\n",
       "  'LandCover_class_values': [0,\n",
       "   20,\n",
       "   30,\n",
       "   40,\n",
       "   50,\n",
       "   60,\n",
       "   70,\n",
       "   80,\n",
       "   90,\n",
       "   100,\n",
       "   110,\n",
       "   120,\n",
       "   130,\n",
       "   140,\n",
       "   150,\n",
       "   170,\n",
       "   180],\n",
       "  'system:index': '2001_01_01'}}"
      ]
     },
     "execution_count": 8,
     "metadata": {},
     "output_type": "execute_result"
    }
   ],
   "source": [
    "firstimg=modisFire.first()\n",
    "firstimg.getInfo()"
   ]
  },
  {
   "cell_type": "code",
   "execution_count": 11,
   "id": "9049974b-392e-4373-bebe-9e77f9793b29",
   "metadata": {},
   "outputs": [],
   "source": [
    "visParsFire = {'bands': ['B7', 'B5', 'B2'],\n",
    "             'min': 0,\n",
    "             'max': 0.3\n",
    "            }"
   ]
  },
  {
   "cell_type": "code",
   "execution_count": 38,
   "id": "bcb8874b-2b5c-4ccd-a0fa-daff5c751adf",
   "metadata": {},
   "outputs": [],
   "source": [
    "nbrParams = {'min': -0.5, \n",
    "              'max': 1, \n",
    "              'palette': ['saddlebrown', 'white', 'green', 'blue']\n",
    "             }"
   ]
  },
  {
   "cell_type": "code",
   "execution_count": 47,
   "id": "4bea4e25-d73f-4a73-9b3b-ec3176ed38c2",
   "metadata": {},
   "outputs": [],
   "source": [
    "modisParams = {'bands': ['BurnDate'],\n",
    "             'min': 0,\n",
    "             'max': 366,\n",
    "            'palette': ['green', 'red']\n",
    "            }\n",
    "\n"
   ]
  },
  {
   "cell_type": "code",
   "execution_count": 13,
   "id": "5a504420-7893-49b4-aa48-91ee54f61c86",
   "metadata": {},
   "outputs": [],
   "source": [
    "swir = dat_drght.select('B7')\n",
    "nir = dat_drght.select('B5')\n",
    "\n",
    "# ndvi=(nir.subtract(red)).divide((nir.add(red))).rename('NDVI')\n",
    "\n",
    "nbr=(nir.subtract(swir)).divide((nir.add(swir))).rename('NBR')"
   ]
  },
  {
   "cell_type": "code",
   "execution_count": null,
   "id": "ec3e2e93-7d6b-42fb-bd06-566dad8ad2ce",
   "metadata": {},
   "outputs": [],
   "source": []
  },
  {
   "cell_type": "code",
   "execution_count": 42,
   "id": "305ec071-0710-4972-aa20-a61408970aaa",
   "metadata": {},
   "outputs": [
    {
     "data": {
      "application/vnd.jupyter.widget-view+json": {
       "model_id": "1ec0774e0d5a4851b0471efe127784d5",
       "version_major": 2,
       "version_minor": 0
      },
      "text/plain": [
       "Map(center=[37.22, -121.54], controls=(WidgetControl(options=['position', 'transparent_bg'], widget=HBox(child…"
      ]
     },
     "execution_count": 42,
     "metadata": {},
     "output_type": "execute_result"
    }
   ],
   "source": [
    "# Add another layer to the map showing false color images\n",
    "Map = geemap.Map(center=[37.22, -121.54], zoom=8)\n",
    "Map"
   ]
  },
  {
   "cell_type": "code",
   "execution_count": 54,
   "id": "0be8b77a-b781-41d3-934e-9010881d66f5",
   "metadata": {},
   "outputs": [],
   "source": [
    "Map.addLayer(modis_after_fire, modisParams)"
   ]
  },
  {
   "cell_type": "code",
   "execution_count": 5,
   "id": "d017d9f0-ad39-414c-a761-d7ec786ac6d4",
   "metadata": {},
   "outputs": [],
   "source": [
    "# Map.addLayer(dat_drght,visParsFire,'7-5-2 False Color')"
   ]
  },
  {
   "cell_type": "code",
   "execution_count": 39,
   "id": "9ce56c27-cad9-4cb2-b6bd-9c6ecdcbb020",
   "metadata": {},
   "outputs": [],
   "source": [
    "Map.addLayer(nbr,nbrParams,'NBR')"
   ]
  },
  {
   "cell_type": "markdown",
   "id": "62354cdf-609f-487d-be51-9ea306997a69",
   "metadata": {},
   "source": [
    "<a id='usecases'></a> \n",
    "### Use Case Examples"
   ]
  },
  {
   "cell_type": "markdown",
   "id": "9e5b04a9-b2bb-40ed-bb8c-9c75d3494c38",
   "metadata": {},
   "source": [
    "This is the \"meat\" of the notebook, and what will take the majority of the time to present in class. This section should provide:\n",
    "1) A plain-text summary (1-2 paragraphs) of the use case example you have chosen: include the target users and audience, and potential applicability. \n",
    "\n",
    "2) Markdown and code blocks demonstrating how one walks through the desired use case example. This should be similar to the labs we've done in class: you might want to demonstrate how to isolate a particularly interesting time period, then create an image showing a feature you're interested in, for example.\n",
    "\n",
    "3) A discussion of the results and how they might be extended on further analysis. For example, if there are data quality issues which impact the results, you could discuss how these might be mitigated with additional information/analysis.\n",
    "\n",
    "Just keep in mind, you'll have roughly 20 minutes for your full presentation, and that goes surprisingly quickly! Probably 2-3 diagnostics is the most you'll be able to get through (you could try practicing with your group members to get a sense of timing).\n"
   ]
  },
  {
   "cell_type": "markdown",
   "id": "9d07de0d-1e81-442a-a895-7b7fd7906385",
   "metadata": {},
   "source": [
    "<a id='binder'></a> \n",
    "### Create Binder Environment\n",
    "\n",
    "The last step is to create a Binder environment for your project, so that we don't have to spend time configuring everyone's environment each time we switch between group presentations. Instructions are below:\n",
    "\n",
    " - Assemble all of the data needed in your Github repo: Jupyter notebooks, a README file, and any datasets needed (these should be small, if included within the repo). Larger datasets should be stored on a separate server, and access codes included within the Jupyter notebook as discussed above. \n",
    " \n",
    " - Create an _environment_ file: this is a text file which contains information on the packages needed in order to execute your code. The filename should be \"environment.yml\": an example that you can use for the proper syntax is included in this template repo. To determine which packages to include, you'll probably want to start by displaying the packages loaded in your environment: you can use the command `conda list -n [environment_name]` to get a list.\n",
    " \n",
    " More information on environment files can be found here:\n",
    " https://docs.conda.io/projects/conda/en/latest/user-guide/tasks/manage-environments.html#\n",
    "\n",
    " - Create Binder. Use http://mybinder.org to create a  URL for your notebook Binder (you will need to enter your GitHub repo URL). You can also add a Launch Binder button directly to your GitHub repo, by including the following in your README.md:\n",
    "\n",
    "```\n",
    "launch with myBinder\n",
    "[![Binder](https://mybinder.org/badge.svg)](https://mybinder.org/v2/gh/<path to your repo>)\n",
    "```"
   ]
  },
  {
   "cell_type": "markdown",
   "id": "c62c774b-8a7c-4f47-9c07-7f9823c48473",
   "metadata": {},
   "source": [
    "<a id='references'></a> \n",
    "### References\n",
    "\n",
    "List relevant references. Here are some additional resources on creating professional, shareable notebooks you may find useful:\n",
    "\n",
    "1. Notebook sharing guidelines from reproducible-science-curriculum: https://reproducible-science-curriculum.github.io/publication-RR-Jupyter/\n",
    "2. Guide for developing shareable notebooks by Kevin Coakley, SDSC: https://github.com/kevincoakley/sharing-jupyter-notebooks/raw/master/Jupyter-Notebooks-Sharing-Recommendations.pdf\n",
    "3. Guide for sharing notebooks by Andrea Zonca, SDSC: https://zonca.dev/2020/09/how-to-share-jupyter-notebooks.html\n",
    "4. Jupyter Notebook Best Practices: https://towardsdatascience.com/jupyter-notebook-best-practices-f430a6ba8c69\n",
    "5. Introduction to Jupyter templates nbextension: https://towardsdatascience.com/stop-copy-pasting-notebooks-embrace-jupyter-templates-6bd7b6c00b94  \n",
    "    5.1. Table of Contents (Toc2) readthedocs: https://jupyter-contrib-nbextensions.readthedocs.io/en/latest/nbextensions/toc2/README.html  \n",
    "    5.2. Steps to install toc2: https://stackoverflow.com/questions/23435723/installing-ipython-notebook-table-of-contents\n",
    "6. Rule A, Birmingham A, Zuniga C, Altintas I, Huang SC, et al. (2019) Ten simple rules for writing and sharing computational analyses in Jupyter Notebooks. PLOS Computational Biology 15(7): e1007007. https://doi.org/10.1371/journal.pcbi.1007007. Supplementary materials: example notebooks (https://github.com/jupyter-guide/ten-rules-jupyter) and tutorial (https://github.com/ISMB-ECCB-2019-Tutorial-AM4/reproducible-computational-workflows)\n",
    "7. Languages supported by Jupyter kernels: https://github.com/jupyter/jupyter/wiki/Jupyter-kernels\n",
    "8. EarthCube notebooks presented at EC Annual Meeting 2020: https://www.earthcube.org/notebooks\n",
    "9. Manage your Python Virtual Environment with Conda: https://towardsdatascience.com/manage-your-python-virtual-environment-with-conda-a0d2934d5195\n",
    "10. Venv - Creation of Virtual Environments: https://docs.python.org/3/library/venv.html"
   ]
  },
  {
   "cell_type": "code",
   "execution_count": null,
   "id": "e9f10df5-100c-4f4a-a1c3-bd417b524a61",
   "metadata": {},
   "outputs": [],
   "source": []
  }
 ],
 "metadata": {
  "kernelspec": {
   "display_name": "Python 3 (ipykernel)",
   "language": "python",
   "name": "python3"
  },
  "language_info": {
   "codemirror_mode": {
    "name": "ipython",
    "version": 3
   },
   "file_extension": ".py",
   "mimetype": "text/x-python",
   "name": "python",
   "nbconvert_exporter": "python",
   "pygments_lexer": "ipython3",
   "version": "3.10.5"
  }
 },
 "nbformat": 4,
 "nbformat_minor": 5
}
